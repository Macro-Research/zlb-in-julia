{
 "cells": [
  {
   "cell_type": "code",
   "execution_count": 1,
   "metadata": {},
   "outputs": [
    {
     "name": "stdout",
     "output_type": "stream",
     "text": [
      "something went wrong with getrf! (sparsegrid)\n",
      "info = 1\n",
      "Parameter: pp\n",
      "Parameter: sigma\n",
      "\u001b[1m\u001b[37mTest Summary:         | \u001b[39m\u001b[22m\u001b[1m\u001b[32mPass  \u001b[39m\u001b[22m\u001b[1m\u001b[36mTotal\u001b[39m\u001b[22m\n",
      "Linear Solution Tests | \u001b[32m   2  \u001b[39m\u001b[36m    2\u001b[39m\n"
     ]
    },
    {
     "data": {
      "text/plain": [
       "Base.Test.DefaultTestSet(\"Linear Solution Tests\", Any[], 2, false)"
      ]
     },
     "execution_count": 1,
     "metadata": {},
     "output_type": "execute_result"
    }
   ],
   "source": [
    "using NBInclude\n",
    "nbinclude(\"/msu/home/m1exm07/jl_emp_imp_zlb/src/model/linear_solution.ipynb\")\n",
    "#import ..linear_solution: get_aimsolution\n",
    "#import ..polydef: linsoldetails, polydetails, solutiondetails, initializesolution!, initializelinearsolution!\n",
    "using ..linear_solution, ..polydef\n",
    "\n",
    "    #Create test solution\n",
    "    test_solution = solutiondetails()\n",
    "    test_solution.poly = polydetails() #Must initilize subtype\n",
    "    test_solution.linsol = linsoldetails() #Must initilize subtype\n",
    "    \n",
    "    test_solution.linsol.pp    = Base.DataFmt.readdlm(\"linsol%pp.txt\")\n",
    "    test_solution.linsol.sigma = Base.DataFmt.readdlm(\"linsol%sigma.txt\")\n",
    "\n",
    "    #Input user based parameters of the solution\n",
    "    solution = solutiondetails()\n",
    "    solution.poly = polydetails() #Must initilize subtype\n",
    "    solution.linsol = linsoldetails() #Must initilize subtype\n",
    "\n",
    "    solution.poly.nparams = 43\n",
    "    solution.poly.nexog = 6\n",
    "    solution.poly.nexogcont = 0 \n",
    "    #solution.poly.nexogcont = 1  #adds level technology shock into polynomial \n",
    "    solution.poly.nvars = 22\n",
    "    solution.poly.nmsv = 7\n",
    "    solution.poly.nfunc = 7\n",
    "    solution.poly.nindplus = 1\n",
    "    solution.poly.nshockgrid = [7 3 3 3 3 1]\n",
    "\n",
    "    npara = solution.poly.nparams\n",
    "    nvars = solution.poly.nvars+solution.poly.nexog\n",
    "    nexog = solution.poly.nexog\n",
    "\n",
    "    if (solution.poly.nindplus == 1) \n",
    "        solution.poly.indplus = zeros(Int,solution.poly.nindplus,1)\n",
    "        solution.poly.indplus[1] = 3\n",
    "    end\n",
    "\n",
    "    #Initilize solution\n",
    "    initializesolution!(solution)\n",
    "    initializelinearsolution!(solution.poly.nparams,solution.poly.nvars,solution.poly.nexog,solution.poly.nexogshock,solution.poly.nexogcont,solution.linsol) \n",
    "\n",
    "    #Read parameters from file and report finds from get_aimsolution\n",
    "    params=Base.DataFmt.readdlm(\"mean.txt\")\n",
    "    params,solution.linsol=get_aimsolution(params,solution.linsol)\n",
    "\n",
    "    #Test Results\n",
    "    using Base.Test\n",
    "    @testset \"Linear Solution Tests\" begin\n",
    "        tolerance=1e-4\n",
    "        println(\"Parameter: pp\")\n",
    "        @test solution.linsol.pp ≈ test_solution.linsol.pp atol=tolerance\n",
    "    \n",
    "        println(\"Parameter: sigma\")\n",
    "        @test solution.linsol.sigma ≈ test_solution.linsol.sigma atol=tolerance\n",
    "    end"
   ]
  },
  {
   "cell_type": "code",
   "execution_count": null,
   "metadata": {},
   "outputs": [],
   "source": []
  }
 ],
 "metadata": {
  "kernelspec": {
   "display_name": "Julia 0.6.0",
   "language": "julia",
   "name": "julia-0.6"
  },
  "language_info": {
   "file_extension": ".jl",
   "mimetype": "application/julia",
   "name": "julia",
   "version": "0.6.0"
  }
 },
 "nbformat": 4,
 "nbformat_minor": 2
}
